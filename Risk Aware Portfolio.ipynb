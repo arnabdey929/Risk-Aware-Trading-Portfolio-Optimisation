{
 "cells": [
  {
   "cell_type": "code",
   "execution_count": 29,
   "metadata": {},
   "outputs": [],
   "source": [
    "import numpy as np\n",
    "import pandas as pd\n",
    "import matplotlib.pyplot as plt\n",
    "import matplotlib.dates as dates\n",
    "import pandas_datareader.data as web\n",
    "from tqdm import tqdm\n",
    "import yfinance as yf\n",
    "import os\n",
    "from typing import List, Tuple\n",
    "from collections import namedtuple"
   ]
  },
  {
   "cell_type": "code",
   "execution_count": 30,
   "metadata": {},
   "outputs": [],
   "source": [
    "stocks_tickers = []\n",
    "futures_tickers = []\n",
    "\n",
    "start = '2018-9-28'\n",
    "end = '2025-4-10'"
   ]
  },
  {
   "cell_type": "code",
   "execution_count": null,
   "metadata": {},
   "outputs": [],
   "source": [
    "def load_cleaned_price_csv(filepath):\n",
    "    df = pd.read_csv(filepath, header=[0, 1], index_col=0)\n",
    "    for col in df.columns:\n",
    "        df[col] = pd.to_numeric(df[col], errors='coerce')\n",
    "    ticker = df.columns.levels[1][0]\n",
    "    df = df.xs(ticker, axis=1, level=1)\n",
    "    df.columns.name = None\n",
    "    df.index = pd.to_datetime(df.index)\n",
    "    return df\n",
    "\n",
    "def load_price_data(folder_path):\n",
    "    price_data = {}\n",
    "    for filename in os.listdir(folder_path):\n",
    "        if filename.endswith('.csv'):\n",
    "            ticker = os.path.splitext(filename)[0]\n",
    "            filepath = os.path.join(folder_path, filename)\n",
    "            df = load_cleaned_price_csv(filepath=filepath)\n",
    "            price_data[ticker] = df.dropna()\n",
    "    return price_data\n",
    "\n",
    "stock_data = load_price_data(\"/home/arnabdey/../My Codes/Risk Aware Portfolio Stocks\")\n",
    "futures_data = load_price_data(\"/home/arnabdey/../My Codes/Risk Aware Portfolio Futures\")"
   ]
  },
  {
   "cell_type": "code",
   "execution_count": 32,
   "metadata": {},
   "outputs": [
    {
     "name": "stdout",
     "output_type": "stream",
     "text": [
      "80\n",
      "14\n"
     ]
    }
   ],
   "source": [
    "print(len(stock_data))\n",
    "print(len(futures_data))"
   ]
  },
  {
   "cell_type": "code",
   "execution_count": 33,
   "metadata": {},
   "outputs": [
    {
     "name": "stdout",
     "output_type": "stream",
     "text": [
      "                Close       High        Low       Open     Volume\n",
      "Date                                                             \n",
      "2018-09-28  53.656433  53.680200  53.247604  53.430623   91717600\n",
      "2018-10-01  54.017723  54.531137  53.801427  54.181731   94403200\n",
      "2018-10-02  54.497860  54.668998  53.867979  54.015347   99152800\n",
      "2018-10-03  55.161030  55.493796  54.616715  54.680892  114619200\n",
      "2018-10-04  54.191242  55.227576  53.891749  54.854399  128168000\n"
     ]
    }
   ],
   "source": [
    "print(stock_data['AAPL'].head())"
   ]
  },
  {
   "cell_type": "code",
   "execution_count": 34,
   "metadata": {},
   "outputs": [],
   "source": [
    "class Particle:\n",
    "    def __init__(self, uei_indices: np.ndarray, notionals: np.ndarray, velocity: np.ndarray):\n",
    "        self.position = np.concatenate([uei_indices, notionals])\n",
    "        self.velocity = velocity\n",
    "        self.best_position = self.position.copy()\n",
    "        self.best_fitness = np.inf\n",
    "class RATSOptimiser:\n",
    "    def __init__(self, portfolio, uei_pool, fitness_function, constraints, m=10, n_particles = 30):\n",
    "        self.portfolio = portfolio\n",
    "        self.uei_pool = uei_pool\n",
    "        self.fitness_function = fitness_function\n",
    "        self.constraints = constraints\n",
    "        self.m = m\n",
    "        self.n_particles = n_particles\n",
    "        self.particles = []\n",
    "        self.global_best_position = None\n",
    "        self.global_best_fitness = np.inf\n",
    "        self.initialize_particles()\n",
    "    \n",
    "    def initialize_particles(self):\n",
    "        for _ in range(self.n_particles):\n",
    "            uei_indices = np.random.choice(len(self.uei_pool), self.m, replace=False)\n",
    "            notionals = np.random.randint(-10, 11, size=self.m)\n",
    "            velocity = np.random.uniform(-1, 1, size=2 * self.m)\n",
    "            self.particles.append(Particle(uei_indices, notionals, velocity))\n",
    "\n",
    "    def optimize(self, n_iterations=100, w=0.5, c1=1.5, c2=1.5):\n",
    "        for iteration in tqdm(range(n_iterations)):\n",
    "            for particle in self.particles:\n",
    "                position = particle.position\n",
    "                uei_indices = position[:self.m].astype(int)\n",
    "                notionals = position[self.m:].astype(int)\n",
    "                fitness =self.fitness_function(uei_indices, notionals, self.portfolio, self.uei_pool)\n",
    "\n",
    "                fitness += sum([penalty(uei_indices, notionals, self.portfolio, self.uei_pool) for penalty in self.constraints])\n",
    "\n",
    "                if fitness < particle.best_fitness:\n",
    "                    particle.best_position = particle.position.copy()\n",
    "                    particle.best_fitness = fitness\n",
    "                if fitness < self.global_best_fitness:\n",
    "                    self.global_best_position = particle.position.copy()\n",
    "                    self.global_best_fitness = fitness\n",
    "            for particle in self.particles:\n",
    "                r1, r2 = np.random.rand(2)\n",
    "                cognitive = c1 * r1 * (particle.best_position - particle.position)\n",
    "                social = c2 * r2 * (self.global_best_position - particle.position)\n",
    "                particle.velocity = w * particle.velocity + cognitive + social\n",
    "                particle.position = np.round(particle.position)\n",
    "\n",
    "        return self.global_best_position, self.global_best_fitness\n",
    "        "
   ]
  },
  {
   "cell_type": "code",
   "execution_count": 35,
   "metadata": {},
   "outputs": [],
   "source": [
    "class UEI:\n",
    "    def __init__(self, ticker, instrument_type, data):\n",
    "        self.ticker = ticker\n",
    "        self.instrument_type = instrument_type\n",
    "        self.data = data\n",
    "uei_pool = []\n",
    "\n",
    "for ticker, df in stock_data.items():\n",
    "    uei_pool.append(UEI(ticker=ticker, instrument_type='stock', data=df))\n",
    "for ticker, df in futures_data.items():\n",
    "    uei_pool.append(UEI(ticker=ticker, instrument_type='future', data=df))"
   ]
  },
  {
   "cell_type": "code",
   "execution_count": 36,
   "metadata": {},
   "outputs": [],
   "source": [
    "Holding = namedtuple('Holding', ['uei', 'notional'])\n",
    "\n",
    "initial_portfolio = [\n",
    "    Holding(uei=uei_pool[0], notional=100),\n",
    "    Holding(uei=uei_pool[3], notional=-50),\n",
    "    Holding(uei=uei_pool[7], notional=75)\n",
    "]"
   ]
  },
  {
   "cell_type": "code",
   "execution_count": null,
   "metadata": {},
   "outputs": [],
   "source": [
    "def compute_pnl(ueis: List, notionals: List[int], window: int = 250):\n",
    "    pnl = np.zeros(window - 1)\n",
    "    for uei, notional in zip(ueis, notionals):\n",
    "        prices = uei.data.iloc[-window:]['Close'].values\n",
    "        if len(prices) < 2:\n",
    "            continue\n",
    "        returns = np.diff(prices)\n",
    "\n",
    "        if len(returns) < len(pnl):\n",
    "            padded_returns = np.zeros_like(pnl)\n",
    "            padded_returns[-len(returns):] = returns\n",
    "        else:\n",
    "            padded_returns = returns[-len(pnl):]\n",
    "        \n",
    "        pnl += notional * padded_returns\n",
    "    return pnl\n",
    "\n",
    "def compute_var(ueis: List, notionals: List[int], window: int = 250, confidence: float = 0.99):\n",
    "    pnl = compute_pnl(ueis, notionals, window)\n",
    "    sorted_pnl = np.sort(pnl)\n",
    "    index = int((1 - confidence) * len(sorted_pnl))\n",
    "    return sorted_pnl[index]\n",
    "\n",
    "def compute_cost(ueis: List, notionals: List[int]):\n",
    "    cost = 0.0\n",
    "    for uei, notional in zip(ueis, notionals):\n",
    "        try:\n",
    "            price = uei.data['Close'].iloc[-1]\n",
    "        except:\n",
    "            price = 1.0\n",
    "\n",
    "        spread = 0.001 if uei.instrument_type == 'stock' else 0.0005\n",
    "        cost += abs(notional) * price * spread\n",
    "    return cost\n",
    "\n",
    "\n",
    "def compute_fitness(uei_indices, notionals, portfolio, uei_pool):\n",
    "\n",
    "    H = [uei_pool[i] for i in uei_indices]\n",
    "    h = notionals\n",
    "\n",
    "    T_uei = [h.uei for h in portfolio] + H\n",
    "    T_notionals = [h.notional for h in portfolio] + list(h)\n",
    "\n",
    "    pnl_T = compute_pnl(T_uei, T_notionals)\n",
    "    var_T = compute_var(T_uei, T_notionals)\n",
    "    pnl_P = compute_pnl([h.uei for h in portfolio], [h.notional for h in portfolio])\n",
    "    cost_H = compute_cost(H, h)\n",
    "\n",
    "    denom = var_T - cost_H\n",
    "    denom = denom if abs(denom) > 1e-6 else 1e-6\n",
    "\n",
    "    return (np.mean(pnl_T) - np.mean(pnl_P) - cost_H) / denom\n",
    "def get_delta(uei):\n",
    "    return 1.0 if uei.instrument_type == 'stock' else 0.0\n",
    "\n",
    "def get_vega(uei):\n",
    "    return 0.2 if uei.instrument_type == 'option' else 0.0\n",
    "\n",
    "def get_gamma(uei):\n",
    "    return 0.1 if uei.instrument_type == 'option' else 0.0\n",
    "\n",
    "def delta_constraint(uei_indices, notionals, portfolio, uei_pool, max_ratio=0.2):\n",
    "\n",
    "    delta_H = sum(get_delta(uei_pool[i]) * h for i, h in zip(uei_indices, notionals))\n",
    "    delta_P = sum(get_delta(h.uei) * h.notional for h in portfolio)\n",
    "    \n",
    "    return max(0, abs(delta_H) - max_ratio * abs(delta_P))\n",
    "def vega_constraint(uei_indices, notionals, portfolio, uei_pool, max_ratio=0.2):\n",
    "    \n",
    "    vega_H = sum(get_vega(uei_pool[i]) * h for i, h in zip(uei_indices, notionals))\n",
    "    vega_P = sum(get_vega(h.uei) * h.notional for h in portfolio)\n",
    "    \n",
    "    return max(0, abs(vega_H) - max_ratio * abs(vega_P))\n",
    "\n",
    "def gamma_constraint(uei_indices, notionals, portfolio, uei_pool, max_ratio=0.2):\n",
    "    \n",
    "    gamma_H = sum(get_gamma(uei_pool[i]) * h for i, h in zip(uei_indices, notionals))\n",
    "    gamma_P = sum(get_gamma(h.uei) * h.notional for h in portfolio)\n",
    "    \n",
    "    return max(0, abs(gamma_H) - max_ratio * abs(gamma_P))\n",
    "def visualize_global_best(global_best_position, uei_pool, m):\n",
    "    uei_indices = global_best_position[:m].astype(int)\n",
    "    notionals = global_best_position[m:].astype(int)\n",
    "\n",
    "    print(f\"{'Index':<6} {'Ticker':<10} {'Type':<8} {'Notional':<10}\")\n",
    "    print(\"-\" * 40)\n",
    "\n",
    "    for i, (uei_idx, amount) in enumerate(zip(uei_indices, notionals)):\n",
    "        if uei_idx < 0 or uei_idx >= len(uei_pool):\n",
    "            print(f\"{i:<6} INVALID INDEX {uei_idx}\")\n",
    "            continue\n",
    "\n",
    "        uei = uei_pool[uei_idx]\n",
    "        print(f\"{i:<6} {uei.ticker:<10} {uei.instrument_type:<8} {amount:<10}\")\n"
   ]
  },
  {
   "cell_type": "markdown",
   "metadata": {},
   "source": [
    "Use the Optimiser from Paper"
   ]
  },
  {
   "cell_type": "code",
   "execution_count": 38,
   "metadata": {},
   "outputs": [
    {
     "name": "stderr",
     "output_type": "stream",
     "text": [
      "100%|██████████| 100/100 [00:10<00:00,  9.49it/s]"
     ]
    },
    {
     "name": "stdout",
     "output_type": "stream",
     "text": [
      "Index  Ticker     Type     Notional  \n",
      "----------------------------------------\n",
      "0      CL=F       future   8         \n",
      "1      TSLA       stock    1         \n",
      "2      ZN=F       future   -9        \n",
      "3      NFLX       stock    1         \n",
      "4      MSFT       stock    6         \n",
      "5      GC=F       future   9         \n"
     ]
    },
    {
     "name": "stderr",
     "output_type": "stream",
     "text": [
      "\n"
     ]
    }
   ],
   "source": [
    "rats = RATSOptimiser(\n",
    "    portfolio=initial_portfolio,\n",
    "    uei_pool=uei_pool,\n",
    "    fitness_function=compute_fitness,\n",
    "    constraints=[delta_constraint, vega_constraint, gamma_constraint],\n",
    "    m = 6,\n",
    "    n_particles=50\n",
    ")\n",
    "\n",
    "z, best_score = rats.optimize(n_iterations=100)\n",
    "visualize_global_best(z, uei_pool, m=6)"
   ]
  }
 ],
 "metadata": {
  "kernelspec": {
   "display_name": "Python 3",
   "language": "python",
   "name": "python3"
  },
  "language_info": {
   "codemirror_mode": {
    "name": "ipython",
    "version": 3
   },
   "file_extension": ".py",
   "mimetype": "text/x-python",
   "name": "python",
   "nbconvert_exporter": "python",
   "pygments_lexer": "ipython3",
   "version": "3.8.20"
  }
 },
 "nbformat": 4,
 "nbformat_minor": 2
}
